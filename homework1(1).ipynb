{
 "cells": [
  {
   "cell_type": "code",
   "execution_count": 2,
   "metadata": {},
   "outputs": [
    {
     "name": "stdout",
     "output_type": "stream",
     "text": [
      "1\t5\t12\t22\t35\t51\t70\t92\t117\t145\t\n",
      "176\t210\t247\t287\t330\t376\t425\t477\t532\t590\t\n",
      "651\t715\t782\t852\t925\t1001\t1080\t1162\t1247\t1335\t\n",
      "1426\t1520\t1617\t1717\t1820\t1926\t2035\t2147\t2262\t2380\t\n",
      "2501\t2625\t2752\t2882\t3015\t3151\t3290\t3432\t3577\t3725\t\n",
      "3876\t4030\t4187\t4347\t4510\t4676\t4845\t5017\t5192\t5370\t\n",
      "5551\t5735\t5922\t6112\t6305\t6501\t6700\t6902\t7107\t7315\t\n",
      "7526\t7740\t7957\t8177\t8400\t8626\t8855\t9087\t9322\t9560\t\n",
      "9801\t10045\t10292\t10542\t10795\t11051\t11310\t11572\t11837\t12105\t\n",
      "12376\t12650\t12927\t13207\t13490\t13776\t14065\t14357\t14652\t14950\t\n"
     ]
    }
   ],
   "source": [
    "#五角数\n",
    "def getpentagonalNumber(n):\n",
    "    c = int(n*(3*n-1)/2)\n",
    "   \n",
    "    print(c,end='\\t')\n",
    "    if n %10 ==0:\n",
    "        print()\n",
    "for i in range(1,101):\n",
    "    getpentagonalNumber(i)"
   ]
  },
  {
   "cell_type": "code",
   "execution_count": null,
   "metadata": {},
   "outputs": [],
   "source": [
    "#求一个整数各个数字的和\n",
    "\"\"\"def sumDigits(b):\n",
    "    h = 0\n",
    "    for i in range(len(b)):\n",
    "        \n",
    "        h += int(b[i])\n",
    "    return (h)\n",
    "b=input(\"请输入整数:\")\n",
    "sumDigits(b)\n",
    " \"\"\"           \n",
    "def sumDigits(n):\n",
    "    #str 将括号中的内容强制转换为字符串\n",
    "    \n",
    "        "
   ]
  },
  {
   "cell_type": "code",
   "execution_count": null,
   "metadata": {},
   "outputs": [],
   "source": [
    "\n",
    "#提醒用户输入三个整数，然后调用函数按升序显示三个数\n",
    "\n",
    "def desplaySortedNumbers(num1,num2,num3):\n",
    "    print(\"输入3个数:\",num1,num2,num3)\n",
    "    if num1>num2 >num3:\n",
    "        print(\"排序：\",num3,num2,num1)\n",
    "    elif num2>num1 >num3:\n",
    "        print(\"排序：\",num3,num1,num2)\n",
    "    elif num3>num1>num2:\n",
    "        print(\"排序：\",num2,num1,num3)\n",
    "    elif num1>num3>num2:\n",
    "        print(\"排序：\",num2,num3,num1)\n",
    "    elif num3>num2>num1:\n",
    "        print(\"排序：\",num1,num2,num3)\n",
    "    elif num2>num3>num1:\n",
    "        print(\"排序：\",num1,num3,num2)\n",
    "\n",
    "desplaySortedNumbers(4,8,1)\n"
   ]
  },
  {
   "cell_type": "code",
   "execution_count": null,
   "metadata": {},
   "outputs": [],
   "source": [
    "\"\"\"编写一个程序提示用户输入投资额和百分比格式的年利率，然后输出一份表格显示\n",
    "年份从1到30年的未来值。\n",
    "\"\"\"\n",
    "def futureInvestmentValue(bj,ll,years):\n",
    "    years = years+1\n",
    "    for i in range(1,years):\n",
    "        sy = bj+ bj*ll\n",
    "        print(i,sy)\n",
    "        bj=sy\n",
    "futureInvestmentValue(10000,0.09,30)\n",
    "\n"
   ]
  },
  {
   "cell_type": "code",
   "execution_count": null,
   "metadata": {},
   "outputs": [],
   "source": [
    "#编写一个测试程序，打印“1”到“Z”的字符，每行打印10个\n",
    "def printChar(ch1,ch2,nP):\n",
    "    for i in range(10):\n",
    "        print(chr(ord(\"1\") + i),end=\"\")\n",
    "        if(i+1) % 10 == 0:\n",
    "            print()\n",
    "    for i in range(26):\n",
    "        print(chr(ord(\"A\") + i),end=\"\")\n",
    "        if(i+1) % 10 == 0:\n",
    "            print()\n",
    "printChar(1,7,10)"
   ]
  },
  {
   "cell_type": "code",
   "execution_count": null,
   "metadata": {},
   "outputs": [],
   "source": [
    "#编写一个程序测试，显示从2010年到2020年每年的天数\n",
    "def numberOfDaysInAYrea(year):\n",
    "    if year%4==0 and year%100 !=0 and year%400 == 0:\n",
    "        print(year,\"366天\")\n",
    "    else:\n",
    "        print(year,\"365天\")\n",
    "\n",
    "for year in range(2010,2021):\n",
    "    numberOfDaysInAYrea(year)"
   ]
  },
  {
   "cell_type": "code",
   "execution_count": null,
   "metadata": {},
   "outputs": [],
   "source": [
    "#计算两点间距离\n",
    "import math\n",
    "def distance(x1,y1,x2,y2):\n",
    "    q=(x1-x2)**2\n",
    "    w=(y1-y2)**2\n",
    "    e=q+w\n",
    "    dis= math.sqrt(e)\n",
    "    print(\"两点间距离为：\",dis)\n",
    "    \n",
    "distance(1,2,3,4)"
   ]
  },
  {
   "cell_type": "code",
   "execution_count": null,
   "metadata": {},
   "outputs": [],
   "source": [
    "\"\"\"\n",
    "8、如果一个素数可以写成2**（P-1）的形式，其中p是某个正整数，\n",
    "    那么这个数就被称作梅森素数。编写程序找出p<=31的梅森素数。\n",
    "\"\"\"\n",
    "def meisen(p):\n",
    "    q=pow(2,p)-1\n",
    "    m=2\n",
    "    if p==2:\n",
    "        print(p,q)\n",
    "    for i in range(2,p):\n",
    "        m=m+1\n",
    "        if p%i==0:\n",
    "            break\n",
    "        if m == p:\n",
    "            print(p,q)\n",
    "            \n",
    "for p in range(1,32):\n",
    "    meisen(p)"
   ]
  },
  {
   "cell_type": "code",
   "execution_count": 1,
   "metadata": {},
   "outputs": [
    {
     "name": "stdout",
     "output_type": "stream",
     "text": [
      "1565172247.8969674\n",
      "Cuurrent date and time is 2019 年 8 月 7 日 18 : 4 : 7\n"
     ]
    }
   ],
   "source": [
    "\n",
    "#9、调用time.time()返回1970年1月1日0点开始的毫秒数。\n",
    "\n",
    "import time\n",
    "print(time.time())\n",
    "\"\"\"\n",
    " time.localtime(time.time())输出结果为\n",
    " time.struct_time(tm_year=2019, tm_mon=8, \n",
    " tm_mday=6, tm_hour=19, tm_min=21, tm_sec=46, \n",
    " tm_wday=1, tm_yday=218, tm_isdst=0)\n",
    "\"\"\"\n",
    "time = time.localtime(time.time())\n",
    "print(\"Cuurrent date and time is\",time.tm_year,\"年\",\n",
    "      time.tm_mon,\"月\",time.tm_mday,\"日\",\n",
    "      time.tm_hour,\":\",time.tm_min,\":\",time.tm_sec)"
   ]
  },
  {
   "cell_type": "code",
   "execution_count": null,
   "metadata": {},
   "outputs": [],
   "source": [
    "import numpy as np\n",
    "def dianshu():\n",
    "    res1 = np.random.choice([1,2,3,4,5,6])\n",
    "    print(\"您第一次抛出的点数为:\",res1)\n",
    "    res2 = np.random.choice([1,2,3,4,5,6])\n",
    "    print(\"您第二次抛出的点数为:\",res2)\n",
    "    res = res1 + res2\n",
    "    print(\"您抛出的两次点数之和为：\",res)\n",
    "    return res\n",
    "res = dianshu()\n",
    "if res==2 or res==3 or res==12:\n",
    "    print(\"你输了！！！\")\n",
    "elif res==7 or res==11:\n",
    "    print(\"你赢了！！！\")\n",
    "else:\n",
    "    res3 = res\n",
    "    res = dianshu()\n",
    "    if res ==7 or res == res3:\n",
    "        print(\"你赢了！！！\")\n",
    "    else:\n",
    "        print(\"请开始下一局！\")"
   ]
  },
  {
   "cell_type": "code",
   "execution_count": null,
   "metadata": {},
   "outputs": [],
   "source": [
    "\"\"\"\n",
    " 王者农药\n",
    " 人机对战\n",
    " 1.点击人机对战的按钮(输入)\n",
    " 2.挑选人物(典韦,赵云,鲁班)\n",
    " 3.显示战力,技能,防御\n",
    " 4.人物确定,随机出1个人机，包括战力,名字...等信息显示\n",
    " 5.点击开始按钮..\n",
    " 6.进入加载页面...\n",
    "\"\"\"\n",
    "import numpy as np\n",
    "class wangzhe(object):\n",
    "    def duizhan(self):\n",
    "        choose = input('对战模式：人机 or 多人')\n",
    "        print(choose)\n",
    "    def tiaoxuan(self):\n",
    "        a = input('人物：典韦，赵云，鲁班')\n",
    "        if a == '典韦':\n",
    "            print(a ,\":战力--1500，防御--1647\")\n",
    "        elif a == '赵云':\n",
    "            print(a , \":战力--1700，防御--1541\")\n",
    "        else:\n",
    "            print(a , \":战力--2453，防御--876\")\n",
    "    def suiji(self):\n",
    "        res = np.random.choice(['典韦','赵云','鲁班'])\n",
    "        if res == '典韦':\n",
    "            print(res,\":战力--2000，防御--1500\")\n",
    "        elif res == '赵云':\n",
    "            print(res , \":战力--2500，防御--1400\")\n",
    "        else:\n",
    "            print(res , \":战力--2400，防御--800\")\n",
    "    def start(self):\n",
    "        b = input('请输入开始:')\n",
    "        print(b,\"进入加载项......\")\n",
    "a = wangzhe()\n",
    "a.duizhan()\n",
    "a.tiaoxuan()\n",
    "a.suiji()\n",
    "a.start()\n",
    "        "
   ]
  },
  {
   "cell_type": "code",
   "execution_count": null,
   "metadata": {},
   "outputs": [],
   "source": []
  },
  {
   "cell_type": "code",
   "execution_count": null,
   "metadata": {},
   "outputs": [],
   "source": []
  },
  {
   "cell_type": "code",
   "execution_count": null,
   "metadata": {},
   "outputs": [],
   "source": []
  },
  {
   "cell_type": "code",
   "execution_count": null,
   "metadata": {},
   "outputs": [],
   "source": []
  }
 ],
 "metadata": {
  "kernelspec": {
   "display_name": "Python 3",
   "language": "python",
   "name": "python3"
  },
  "language_info": {
   "codemirror_mode": {
    "name": "ipython",
    "version": 3
   },
   "file_extension": ".py",
   "mimetype": "text/x-python",
   "name": "python",
   "nbconvert_exporter": "python",
   "pygments_lexer": "ipython3",
   "version": "3.6.4"
  }
 },
 "nbformat": 4,
 "nbformat_minor": 2
}
