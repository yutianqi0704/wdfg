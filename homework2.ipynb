{
 "cells": [
  {
   "cell_type": "code",
   "execution_count": 1,
   "metadata": {},
   "outputs": [
    {
     "name": "stdout",
     "output_type": "stream",
     "text": [
      "宽1： 4\n",
      "长1： 40\n",
      "面积1： 160\n",
      "周长1： 88\n",
      "宽2： 3.5\n",
      "长2： 35.7\n",
      "面积2： 124.95000000000002\n",
      "周长2： 78.4\n"
     ]
    }
   ],
   "source": [
    "#写一个矩形，并计算面积和周长\n",
    "class Rectangle(object):\n",
    "    \n",
    "    def __init__(self,width,height):\n",
    "        self.width = width\n",
    "        self.height = height\n",
    "        width = 1\n",
    "        height = 2\n",
    "        print(\"宽1：\",self.width)\n",
    "        print(\"长1：\",self.height)\n",
    "    def getArea(self):\n",
    "        print(\"面积1：\",self.width*self.height)\n",
    "    def getPerimeter(self):\n",
    "        print(\"周长1：\",self.width*2 + self.height*2)       \n",
    "\n",
    "\n",
    "\n",
    "class Rectangle2(object):\n",
    "    \n",
    "    def __init__(self,width,height):\n",
    "        self.width = width\n",
    "        self.height = height\n",
    "       \n",
    "        print(\"宽2：\",self.width)\n",
    "        print(\"长2：\",self.height)\n",
    "    def getArea(self):\n",
    "        print(\"面积2：\",self.width*self.height)\n",
    "    def getPerimeter(self):\n",
    "        print(\"周长2：\",self.width*2 + self.height*2)  \n",
    "        \n",
    "re = Rectangle(4,40)\n",
    "re.getArea()\n",
    "re.getPerimeter()       \n",
    "\n",
    "        \n",
    "re2 = Rectangle2(3.5,35.7)\n",
    "re2.getArea()\n",
    "re2.getPerimeter()"
   ]
  },
  {
   "cell_type": "code",
   "execution_count": 2,
   "metadata": {},
   "outputs": [
    {
     "name": "stdout",
     "output_type": "stream",
     "text": [
      "id账号： 554\n",
      "月利率： 0.03333333333333333\n",
      "月利息： 0.10666666666666667\n",
      "余额： 503.1999999999998\n"
     ]
    }
   ],
   "source": [
    "#银行账户，id，利率，利息，余额\n",
    "class Account(object):\n",
    "    def __init__(self,id,balance,annuallnterestRate):\n",
    "        self.__id = id\n",
    "        self.__balance = balance\n",
    "        self.__annuallnterestRate = annuallnterestRate\n",
    "       \n",
    "    @property  #访问器\n",
    "    def id(self):  \n",
    "        print(self.__id)\n",
    "    @id.setter  #修改器\n",
    "    def id(self,xgid):\n",
    "        self.__id = xgid \n",
    "        \n",
    "    @property  #访问器\n",
    "    def balance(self):  \n",
    "        print(self.__balance)\n",
    "    @balance.setter  #修改器\n",
    "    def balance(self,xgbalance):\n",
    "        self.__balance = xgbalance \n",
    "        \n",
    "    @property  #访问器\n",
    "    def annuallnterestRate(self):  \n",
    "        print(self.__annuallnterestRate)\n",
    "    @annuallnterestRate.setter  #修改器\n",
    "    def annuallnterestRate(self,xgannuallnterestRate):\n",
    "        self.__annuallnterestRate = xgannuallnterestRate \n",
    "        \n",
    "        \n",
    "        \n",
    "    def getMonthlylnterestRate(self):\n",
    "        self.monthlylnterestRate = self.__annuallnterestRate/12\n",
    "        print(\"id账号：\",self.__id)\n",
    "        print(\"月利率：\",self.monthlylnterestRate)\n",
    "        \n",
    "    def getMonthlylnterest(self):\n",
    "        print(\"月利息：\",self.__balance*self.monthlylnterestRate)\n",
    "        \n",
    "    def withdraw(self,atm):\n",
    "        self.__balance = self.__balance - atm\n",
    "       \n",
    "    def deposit(self,atm):\n",
    "        self.__balance = self.__balance + atm\n",
    "        print(\"余额：\",self.__balance)\n",
    "        \n",
    "\n",
    "        \n",
    "acc = Account(1122,10000,0.045)\n",
    "acc.id = 554\n",
    "acc.balance = 3.2\n",
    "acc.annuallnterestRate = 0.4\n",
    "acc.getMonthlylnterestRate()\n",
    "acc.getMonthlylnterest()\n",
    "acc.withdraw(2500)\n",
    "acc.deposit(3000)"
   ]
  },
  {
   "cell_type": "code",
   "execution_count": 5,
   "metadata": {},
   "outputs": [
    {
     "name": "stdout",
     "output_type": "stream",
     "text": [
      "FAST 10.0 True yellow\n",
      "MEDIUM 5.0 False blue\n"
     ]
    }
   ],
   "source": [
    "class Fan(object):\n",
    "    def __init__(self):\n",
    "        self.speed=1\n",
    "        self.on=False\n",
    "        self.radius=5.0\n",
    "        self.color=\"blue\"\n",
    "    def fengshan(self,speed,on,radius,color):\n",
    "        self.speed=speed\n",
    "        self.color=color\n",
    "        self.radius=radius\n",
    "        self.on=on\n",
    "        \n",
    "    def xianshi(self):\n",
    "        if self.speed==1:\n",
    "            speed1=\"SLOW\"\n",
    "        elif self.speed==2:\n",
    "            speed1=\"MEDIUM\"\n",
    "        else:\n",
    "            speed1=\"FAST\"\n",
    "        print(speed1,self.on,self.radius,self.color)\n",
    "xx = Fan()\n",
    "xx.fengshan(3,10.0,True,\"yellow\")\n",
    "xx.xianshi()\n",
    "xx.fengshan(2,5.0,False,\"blue\")\n",
    "xx.xianshi()"
   ]
  },
  {
   "cell_type": "code",
   "execution_count": 4,
   "metadata": {},
   "outputs": [
    {
     "name": "stdout",
     "output_type": "stream",
     "text": [
      "正多边型周长： 54\n",
      "正多边型面积： 70.14805770653953\n"
     ]
    }
   ],
   "source": [
    "#写一个多边形，计算周长和面积\n",
    "import math\n",
    "class RegularPolygon(object):\n",
    "    \n",
    "    def __init__(self,n,side,x,y):\n",
    "        self.__n = n\n",
    "        self.__side =side\n",
    "        self.__x = x\n",
    "        self.__y = y\n",
    "        x=0\n",
    "        y=0\n",
    "    @property  #访问器\n",
    "    def n(self):  \n",
    "        print(self.__n)\n",
    "    @n.setter  #修改器\n",
    "    def n(self,xgn):\n",
    "        self.__n = xgn \n",
    "        \n",
    "    @property  #访问器\n",
    "    def side(self):  \n",
    "        print(self.__side)\n",
    "    @side.setter  #修改器\n",
    "    def side(self,xgside):\n",
    "        self.__side = xgside \n",
    "        \n",
    "    @property  #访问器\n",
    "    def x(self):  \n",
    "        print(self.__x)\n",
    "    @x.setter  #修改器\n",
    "    def x(self,xgx):\n",
    "        self.__x = xgx \n",
    "        \n",
    "    @property  #访问器\n",
    "    def y(self):  \n",
    "        print(self.__y)\n",
    "    @y.setter  #修改器\n",
    "    def y(self,xgy):\n",
    "        self.__y = xgy \n",
    "        \n",
    "    \n",
    "    def getPerimeter(self):\n",
    "        print(\"正多边型周长：\",self.__n*self.__side)\n",
    "    def getArea(self):\n",
    "        print(\"正多边型面积：\",self.__n*self.__side**2/4*math.tan(math.pi/self.__n))\n",
    "        \n",
    "re=RegularPolygon(10,4,5.6,7.8)\n",
    "re.n = 6\n",
    "re.side = 9\n",
    "re.x = 1\n",
    "re.y = 1\n",
    "re.getPerimeter()\n",
    "re.getArea()"
   ]
  },
  {
   "cell_type": "code",
   "execution_count": 4,
   "metadata": {},
   "outputs": [
    {
     "name": "stdout",
     "output_type": "stream",
     "text": [
      "89789\n"
     ]
    },
    {
     "data": {
      "text/plain": [
       "(-0.7051671732522796, 2.6109422492401215)"
      ]
     },
     "execution_count": 4,
     "metadata": {},
     "output_type": "execute_result"
    }
   ],
   "source": [
    "class Linearquation(object):\n",
    "    def __init__(self,a,b,c,d,e,f):\n",
    "        self.__a = a\n",
    "        self.__b = b\n",
    "        self.__c = c\n",
    "        self.__d = d\n",
    "        self.__e = e\n",
    "        self.__f = f\n",
    "    def get_a(self):\n",
    "        return self.__a\n",
    "    def get_b(self):\n",
    "        return self.__b\n",
    "    def get_c(self):\n",
    "        return self.__c\n",
    "    def get_d(self):\n",
    "        return self.__d\n",
    "    def get_e(self):\n",
    "        return self.__e\n",
    "    def isSolvable(self):\n",
    "        if (self.__a*self.__d - self.__b * self.__c) !=0:\n",
    "            print(\"True\")\n",
    "        else:\n",
    "            print(\"此方程无解\")\n",
    "    def get(self):\n",
    "        x = (self.__e * self.__d - self.__b * self.__f) / (self.__a * self.__d - self.__b * self.__c)\n",
    "        y = (self.__a * self.__f - self.__e * self.__c) / (self.__a * self.__d - self.__b * self.__c)\n",
    "        return x,y\n",
    "    print(89789)\n",
    "A = Linearquation(10,23,33,43,53,89)\n",
    "A.get()"
   ]
  },
  {
   "cell_type": "code",
   "execution_count": 16,
   "metadata": {},
   "outputs": [
    {
     "data": {
      "text/plain": [
       "(2.0, 3.0)"
      ]
     },
     "execution_count": 16,
     "metadata": {},
     "output_type": "execute_result"
    }
   ],
   "source": [
    "import numpy as np\n",
    "def get_crossing(s1,s2):\n",
    "    xa,ya = s1[0][0],s1[0][1]\n",
    "    xb,yb = s1[1][0],s1[1][1]\n",
    "    xc,yc = s2[0][0],s2[0][1]\n",
    "    xd,yd = s2[1][0],s2[1][1]\n",
    "    a = np.matrix(\n",
    "        [\n",
    "            [xb-xa,-(xd-xc)],\n",
    "            [yb-ya,-(yd-yc)]\n",
    "        ]\n",
    "    )\n",
    "    delta = np.linalg.det(a)\n",
    "    if np.fabs(delta) < 1e-6:\n",
    "        print(delta)\n",
    "        return None\n",
    "    c = np.matrix(\n",
    "        [\n",
    "            [xc-xa,-(xd-xc)],\n",
    "            [yc-ya,-(yd-yc)]\n",
    "        ]\n",
    "    )\n",
    "    d = np.matrix(\n",
    "        [\n",
    "                [xb-xa,xc-xa],\n",
    "                [yb-ya,yc-ya]\n",
    "        ]\n",
    "    )\n",
    "    lamb = np.linalg.det(c)/delta\n",
    "    miu = np.linalg.det(d)/delta\n",
    "    if lamb <= 1 and lamb >= 0 and miu >= 0 and miu <= 1:\n",
    "        x = xc + miu*(xd-xc)\n",
    "        y = yc + miu*(yd-yc)\n",
    "        return (x,y)\n",
    "    else:\n",
    "        return None\n",
    "get_crossing(((1,2),(3,4)),((1,4),(2,3)))"
   ]
  },
  {
   "cell_type": "code",
   "execution_count": null,
   "metadata": {},
   "outputs": [],
   "source": []
  }
 ],
 "metadata": {
  "kernelspec": {
   "display_name": "Python 3",
   "language": "python",
   "name": "python3"
  },
  "language_info": {
   "codemirror_mode": {
    "name": "ipython",
    "version": 3
   },
   "file_extension": ".py",
   "mimetype": "text/x-python",
   "name": "python",
   "nbconvert_exporter": "python",
   "pygments_lexer": "ipython3",
   "version": "3.6.4"
  }
 },
 "nbformat": 4,
 "nbformat_minor": 2
}
